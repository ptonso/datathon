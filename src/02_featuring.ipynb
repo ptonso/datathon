{
 "cells": [
  {
   "cell_type": "markdown",
   "metadata": {},
   "source": [
    "# Feature engineering\n",
    "**Encoding, binning, scaling time series and normalization**\n",
    "\n",
    "**Import** data from \"data/cleaned.csv\"\n",
    "\n",
    "**Export** to \"data/featured.csv\""
   ]
  },
  {
   "cell_type": "code",
   "execution_count": null,
   "metadata": {},
   "outputs": [],
   "source": [
    "# Setup\n",
    "\n",
    "import numpy as np\n",
    "import pandas as pd\n",
    "\n",
    "from pkg import utils\n",
    "from pkg import feature"
   ]
  },
  {
   "cell_type": "code",
   "execution_count": null,
   "metadata": {},
   "outputs": [],
   "source": [
    "# Importing data\n",
    "\n",
    "parent = 'data'\n",
    "filename = 'cleaned.csv'\n",
    "\n",
    "path = utils.get_path(parent,filename)\n",
    "\n",
    "df = pd.read_csv(path, index_col=0)"
   ]
  },
  {
   "cell_type": "code",
   "execution_count": null,
   "metadata": {},
   "outputs": [],
   "source": [
    "run_save = False"
   ]
  },
  {
   "cell_type": "code",
   "execution_count": null,
   "metadata": {},
   "outputs": [],
   "source": [
    "df.insert(loc = len(df.columns)-1, column = 'ERRO_RENDA_ESPERADA', value = df['RENDA'] - df['RENDA_ESPERADA'])"
   ]
  },
  {
   "cell_type": "code",
   "execution_count": null,
   "metadata": {},
   "outputs": [],
   "source": [
    "df.head()"
   ]
  },
  {
   "cell_type": "code",
   "execution_count": null,
   "metadata": {},
   "outputs": [],
   "source": [
    "# Erro médio das estimativas de renda\n",
    "\n",
    "mean_error = df['ERRO_RENDA_ESPERADA'].mean()/df['RENDA'].mean()\n",
    "\n",
    "\n",
    "print('na média, as lojas estimam {}%'.format(round(abs(mean_error)*100)))\n",
    "print('a mais do que a renda real') if mean_error < 0 else print('a menos do que a renda real')"
   ]
  },
  {
   "cell_type": "code",
   "execution_count": null,
   "metadata": {},
   "outputs": [],
   "source": [
    "# Exporting data\n",
    "\n",
    "featured = df # Add final df\n",
    "\n",
    "if run_save:\n",
    "  utils.save_df(featured, \"featured.csv\")"
   ]
  }
 ],
 "metadata": {
  "kernelspec": {
   "display_name": "base",
   "language": "python",
   "name": "python3"
  },
  "language_info": {
   "codemirror_mode": {
    "name": "ipython",
    "version": 3
   },
   "file_extension": ".py",
   "mimetype": "text/x-python",
   "name": "python",
   "nbconvert_exporter": "python",
   "pygments_lexer": "ipython3",
   "version": "3.11.5"
  },
  "orig_nbformat": 4
 },
 "nbformat": 4,
 "nbformat_minor": 2
}
