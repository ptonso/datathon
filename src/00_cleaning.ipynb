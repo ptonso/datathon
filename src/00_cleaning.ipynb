{
 "cells": [
  {
   "cell_type": "markdown",
   "metadata": {},
   "source": [
    "# Cleaning data\n",
    "**Handling missing values, outliers, duplicates, data integrity and standardizing data**\n",
    "\n",
    "**Import** data from \"data/raw.csv\"\n",
    "\n",
    "**Export** to \"data/cleaned.csv\""
   ]
  },
  {
   "cell_type": "code",
   "execution_count": 23,
   "metadata": {},
   "outputs": [],
   "source": [
    "# Setup\n",
    "\n",
    "import numpy as np\n",
    "import pandas as pd\n",
    "\n",
    "from pkg import utils\n",
    "from pkg import clean\n",
    "\n",
    "from sklearn.impute import SimpleImputer\n",
    "from sklearn.preprocessing import LabelEncoder\n",
    "from sklearn.preprocessing import StandardScaler"
   ]
  },
  {
   "cell_type": "code",
   "execution_count": 24,
   "metadata": {},
   "outputs": [],
   "source": [
    "run_save = True\n",
    "instancing = True\n",
    "encoding = True\n",
    "standarding = False"
   ]
  },
  {
   "cell_type": "code",
   "execution_count": 25,
   "metadata": {},
   "outputs": [],
   "source": [
    "# Importing data\n",
    "\n",
    "parent = 'data'\n",
    "filename = 'raw.csv'\n",
    "\n",
    "path = utils.get_path(parent,filename)\n",
    "\n",
    "df = pd.read_csv(path, sep=\";\", index_col=0)"
   ]
  },
  {
   "cell_type": "code",
   "execution_count": 26,
   "metadata": {},
   "outputs": [
    {
     "data": {
      "text/html": [
       "<div>\n",
       "<style scoped>\n",
       "    .dataframe tbody tr th:only-of-type {\n",
       "        vertical-align: middle;\n",
       "    }\n",
       "\n",
       "    .dataframe tbody tr th {\n",
       "        vertical-align: top;\n",
       "    }\n",
       "\n",
       "    .dataframe thead th {\n",
       "        text-align: right;\n",
       "    }\n",
       "</style>\n",
       "<table border=\"1\" class=\"dataframe\">\n",
       "  <thead>\n",
       "    <tr style=\"text-align: right;\">\n",
       "      <th></th>\n",
       "      <th>TIPO_RELACIONAMENTO</th>\n",
       "      <th>ESTADO_LOJA</th>\n",
       "      <th>CATEGORIA_PRODUTO</th>\n",
       "      <th>RENDA_ESPERADA</th>\n",
       "      <th>ESTRATEGIA_VENDAS</th>\n",
       "      <th>AVAL_SATISFACAO</th>\n",
       "      <th>VL_LIMITE_CREDITO_INICIAL_BANCO</th>\n",
       "      <th>REGIAO_LOJA</th>\n",
       "      <th>VL_FINANCEIRO_BCB</th>\n",
       "      <th>VL_OPERACAO_CARTAO_CREDITO</th>\n",
       "      <th>VL_LIMITE_CREDITO_BCB</th>\n",
       "      <th>PONTUACAO_DESEMPENHO</th>\n",
       "      <th>TEMPO_EXISTENCIA_ONLINE</th>\n",
       "      <th>AVALIACAO_RISCO</th>\n",
       "      <th>SCORE_INTERNO</th>\n",
       "      <th>RENDA</th>\n",
       "    </tr>\n",
       "    <tr>\n",
       "      <th>ID_LOJA</th>\n",
       "      <th></th>\n",
       "      <th></th>\n",
       "      <th></th>\n",
       "      <th></th>\n",
       "      <th></th>\n",
       "      <th></th>\n",
       "      <th></th>\n",
       "      <th></th>\n",
       "      <th></th>\n",
       "      <th></th>\n",
       "      <th></th>\n",
       "      <th></th>\n",
       "      <th></th>\n",
       "      <th></th>\n",
       "      <th></th>\n",
       "      <th></th>\n",
       "    </tr>\n",
       "  </thead>\n",
       "  <tbody>\n",
       "    <tr>\n",
       "      <th>922686</th>\n",
       "      <td>Tipo 3</td>\n",
       "      <td>RN</td>\n",
       "      <td>Alimentos e Bebidas</td>\n",
       "      <td>2199000</td>\n",
       "      <td>Nao informado</td>\n",
       "      <td>7.31</td>\n",
       "      <td>60000</td>\n",
       "      <td>NE</td>\n",
       "      <td>4265800</td>\n",
       "      <td>3546400</td>\n",
       "      <td>719400</td>\n",
       "      <td>792.0</td>\n",
       "      <td>37</td>\n",
       "      <td>300.0</td>\n",
       "      <td>528.0</td>\n",
       "      <td>242400</td>\n",
       "    </tr>\n",
       "    <tr>\n",
       "      <th>938287</th>\n",
       "      <td>Tipo 2</td>\n",
       "      <td>BA</td>\n",
       "      <td>Saude e Beleza</td>\n",
       "      <td>300000</td>\n",
       "      <td>Personalizada</td>\n",
       "      <td>3.57</td>\n",
       "      <td>50000</td>\n",
       "      <td>NE</td>\n",
       "      <td>168700</td>\n",
       "      <td>49500</td>\n",
       "      <td>500</td>\n",
       "      <td>392.0</td>\n",
       "      <td>22</td>\n",
       "      <td>300.0</td>\n",
       "      <td>NaN</td>\n",
       "      <td>235100</td>\n",
       "    </tr>\n",
       "    <tr>\n",
       "      <th>939120</th>\n",
       "      <td>Tipo 3</td>\n",
       "      <td>CE</td>\n",
       "      <td>Alimentos e Bebidas</td>\n",
       "      <td>650000</td>\n",
       "      <td>Padrao</td>\n",
       "      <td>5.08</td>\n",
       "      <td>40000</td>\n",
       "      <td>NE</td>\n",
       "      <td>125900</td>\n",
       "      <td>90900</td>\n",
       "      <td>35000</td>\n",
       "      <td>653.0</td>\n",
       "      <td>27</td>\n",
       "      <td>300.0</td>\n",
       "      <td>NaN</td>\n",
       "      <td>420600</td>\n",
       "    </tr>\n",
       "    <tr>\n",
       "      <th>933554</th>\n",
       "      <td>Tipo 2</td>\n",
       "      <td>SP</td>\n",
       "      <td>Saude e Beleza</td>\n",
       "      <td>300000</td>\n",
       "      <td>Nao informado</td>\n",
       "      <td>6.29</td>\n",
       "      <td>160000</td>\n",
       "      <td>SE</td>\n",
       "      <td>1417900</td>\n",
       "      <td>379200</td>\n",
       "      <td>18900</td>\n",
       "      <td>579.0</td>\n",
       "      <td>33</td>\n",
       "      <td>150.0</td>\n",
       "      <td>NaN</td>\n",
       "      <td>340600</td>\n",
       "    </tr>\n",
       "    <tr>\n",
       "      <th>948294</th>\n",
       "      <td>Tipo 3</td>\n",
       "      <td>SP</td>\n",
       "      <td>Alimentos e Bebidas</td>\n",
       "      <td>1200000</td>\n",
       "      <td>Personalizada</td>\n",
       "      <td>9.23</td>\n",
       "      <td>60000</td>\n",
       "      <td>SE</td>\n",
       "      <td>402000</td>\n",
       "      <td>206800</td>\n",
       "      <td>195100</td>\n",
       "      <td>792.0</td>\n",
       "      <td>30</td>\n",
       "      <td>300.0</td>\n",
       "      <td>NaN</td>\n",
       "      <td>456900</td>\n",
       "    </tr>\n",
       "  </tbody>\n",
       "</table>\n",
       "</div>"
      ],
      "text/plain": [
       "        TIPO_RELACIONAMENTO ESTADO_LOJA    CATEGORIA_PRODUTO  RENDA_ESPERADA  \\\n",
       "ID_LOJA                                                                        \n",
       "922686               Tipo 3          RN  Alimentos e Bebidas         2199000   \n",
       "938287               Tipo 2          BA       Saude e Beleza          300000   \n",
       "939120               Tipo 3          CE  Alimentos e Bebidas          650000   \n",
       "933554               Tipo 2          SP       Saude e Beleza          300000   \n",
       "948294               Tipo 3          SP  Alimentos e Bebidas         1200000   \n",
       "\n",
       "        ESTRATEGIA_VENDAS  AVAL_SATISFACAO  VL_LIMITE_CREDITO_INICIAL_BANCO  \\\n",
       "ID_LOJA                                                                       \n",
       "922686      Nao informado             7.31                            60000   \n",
       "938287      Personalizada             3.57                            50000   \n",
       "939120             Padrao             5.08                            40000   \n",
       "933554      Nao informado             6.29                           160000   \n",
       "948294      Personalizada             9.23                            60000   \n",
       "\n",
       "        REGIAO_LOJA  VL_FINANCEIRO_BCB  VL_OPERACAO_CARTAO_CREDITO  \\\n",
       "ID_LOJA                                                              \n",
       "922686           NE            4265800                     3546400   \n",
       "938287           NE             168700                       49500   \n",
       "939120           NE             125900                       90900   \n",
       "933554           SE            1417900                      379200   \n",
       "948294           SE             402000                      206800   \n",
       "\n",
       "         VL_LIMITE_CREDITO_BCB  PONTUACAO_DESEMPENHO  TEMPO_EXISTENCIA_ONLINE  \\\n",
       "ID_LOJA                                                                         \n",
       "922686                  719400                 792.0                       37   \n",
       "938287                     500                 392.0                       22   \n",
       "939120                   35000                 653.0                       27   \n",
       "933554                   18900                 579.0                       33   \n",
       "948294                  195100                 792.0                       30   \n",
       "\n",
       "         AVALIACAO_RISCO  SCORE_INTERNO   RENDA  \n",
       "ID_LOJA                                          \n",
       "922686             300.0          528.0  242400  \n",
       "938287             300.0            NaN  235100  \n",
       "939120             300.0            NaN  420600  \n",
       "933554             150.0            NaN  340600  \n",
       "948294             300.0            NaN  456900  "
      ]
     },
     "execution_count": 26,
     "metadata": {},
     "output_type": "execute_result"
    }
   ],
   "source": [
    "raw_df = df\n",
    "\n",
    "raw_df.head()"
   ]
  },
  {
   "cell_type": "code",
   "execution_count": 27,
   "metadata": {},
   "outputs": [
    {
     "name": "stdout",
     "output_type": "stream",
     "text": [
      "Numerical: \n",
      "Index(['RENDA_ESPERADA', 'AVAL_SATISFACAO', 'VL_LIMITE_CREDITO_INICIAL_BANCO',\n",
      "       'VL_FINANCEIRO_BCB', 'VL_OPERACAO_CARTAO_CREDITO',\n",
      "       'VL_LIMITE_CREDITO_BCB', 'PONTUACAO_DESEMPENHO',\n",
      "       'TEMPO_EXISTENCIA_ONLINE', 'AVALIACAO_RISCO', 'SCORE_INTERNO', 'RENDA'],\n",
      "      dtype='object')\n",
      "\n",
      "Categorical: \n",
      "Index(['TIPO_RELACIONAMENTO', 'ESTADO_LOJA', 'CATEGORIA_PRODUTO',\n",
      "       'ESTRATEGIA_VENDAS', 'REGIAO_LOJA'],\n",
      "      dtype='object')\n"
     ]
    }
   ],
   "source": [
    "numerical_variables = df.select_dtypes(include=['number'])\n",
    "numerical_variables = numerical_variables.columns\n",
    "\n",
    "categorical_variables = df.select_dtypes(exclude=['number'])\n",
    "categorical_variables = categorical_variables.columns\n",
    "\n",
    "print(f'Numerical: \\n{numerical_variables}\\n')\n",
    "print(f'Categorical: \\n{categorical_variables}')"
   ]
  },
  {
   "cell_type": "code",
   "execution_count": 28,
   "metadata": {},
   "outputs": [],
   "source": [
    "# df['ID_LOJA'] = df['ID_LOJA'].astype(str)"
   ]
  },
  {
   "cell_type": "code",
   "execution_count": 29,
   "metadata": {},
   "outputs": [
    {
     "name": "stdout",
     "output_type": "stream",
     "text": [
      "Columns with missing values:\n",
      "AVAL_SATISFACAO\n",
      "\tNumber of missing values: 10\n",
      "PONTUACAO_DESEMPENHO\n",
      "\tNumber of missing values: 29\n",
      "AVALIACAO_RISCO\n",
      "\tNumber of missing values: 314\n",
      "SCORE_INTERNO\n",
      "\tNumber of missing values: 23613\n"
     ]
    }
   ],
   "source": [
    "missing_values = df.isnull().sum()\n",
    "\n",
    "print(\"Columns with missing values:\")\n",
    "for column_name, num_missing in missing_values.items():\n",
    "    if num_missing > 0:\n",
    "        print(f\"{column_name}\\n\\tNumber of missing values: {num_missing}\")"
   ]
  },
  {
   "cell_type": "markdown",
   "metadata": {},
   "source": [
    "# Categorical"
   ]
  },
  {
   "cell_type": "code",
   "execution_count": 30,
   "metadata": {},
   "outputs": [],
   "source": [
    "if instancing:\n",
    "    numeric_imputer = SimpleImputer(strategy='median')\n",
    "    df[numerical_variables] = numeric_imputer.fit_transform(df[numerical_variables])"
   ]
  },
  {
   "cell_type": "code",
   "execution_count": 31,
   "metadata": {},
   "outputs": [],
   "source": [
    "if encoding:\n",
    "    label_encoder = LabelEncoder()\n",
    "\n",
    "    df[categorical_variables] = df[categorical_variables].apply(label_encoder.fit_transform)\n",
    "    df[categorical_variables]"
   ]
  },
  {
   "cell_type": "code",
   "execution_count": 32,
   "metadata": {},
   "outputs": [],
   "source": [
    "if standarding:\n",
    "    scaler = StandardScaler()\n",
    "    df[numerical_variables] = scaler.fit_transform(df[numerical_variables])\n",
    "    df[numerical_variables]"
   ]
  },
  {
   "cell_type": "code",
   "execution_count": 33,
   "metadata": {},
   "outputs": [
    {
     "name": "stdout",
     "output_type": "stream",
     "text": [
      "csv file saved on:  c:\\Users\\ptons\\Code\\repositories\\datathon\\data\\cleaned.csv\n"
     ]
    }
   ],
   "source": [
    "# Exporting data\n",
    "\n",
    "cleaned = df # Add final df\n",
    "\n",
    "if run_save:\n",
    "    utils.save_df(cleaned, \"cleaned.csv\")"
   ]
  },
  {
   "cell_type": "code",
   "execution_count": null,
   "metadata": {},
   "outputs": [],
   "source": []
  }
 ],
 "metadata": {
  "kernelspec": {
   "display_name": "base",
   "language": "python",
   "name": "python3"
  },
  "language_info": {
   "codemirror_mode": {
    "name": "ipython",
    "version": 3
   },
   "file_extension": ".py",
   "mimetype": "text/x-python",
   "name": "python",
   "nbconvert_exporter": "python",
   "pygments_lexer": "ipython3",
   "version": "3.11.5"
  },
  "orig_nbformat": 4
 },
 "nbformat": 4,
 "nbformat_minor": 2
}
