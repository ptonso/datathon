{
 "cells": [
  {
   "cell_type": "markdown",
   "metadata": {},
   "source": [
    "# Cleaning data\n",
    "**Handling missing values, outliers, duplicates, data integrity and standardizing data**\n",
    "\n",
    "**Import** data from \"data/raw.csv\"\n",
    "\n",
    "**Export** to \"data/cleaned.csv\""
   ]
  },
  {
   "cell_type": "code",
   "execution_count": null,
   "metadata": {},
   "outputs": [],
   "source": [
    "# Setup\n",
    "\n",
    "import numpy as np\n",
    "import pandas as pd\n",
    "\n",
    "from pkg import utils\n",
    "from pkg import clean\n",
    "\n",
    "from sklearn.impute import SimpleImputer\n",
    "from sklearn.preprocessing import LabelEncoder\n",
    "from sklearn.preprocessing import StandardScaler"
   ]
  },
  {
   "cell_type": "code",
   "execution_count": null,
   "metadata": {},
   "outputs": [],
   "source": [
    "run_save = True\n",
    "imputing = True\n",
    "encoding = True\n",
    "standarding = True"
   ]
  },
  {
   "cell_type": "code",
   "execution_count": null,
   "metadata": {},
   "outputs": [],
   "source": [
    "# Importing data\n",
    "\n",
    "parent = 'data'\n",
    "filename = 'raw.csv'\n",
    "\n",
    "path = utils.get_path(parent,filename)\n",
    "\n",
    "df = pd.read_csv(path, sep=\";\", index_col=0)"
   ]
  },
  {
   "cell_type": "code",
   "execution_count": null,
   "metadata": {},
   "outputs": [],
   "source": [
    "raw_df = df\n",
    "\n",
    "raw_df.head()"
   ]
  },
  {
   "cell_type": "code",
   "execution_count": null,
   "metadata": {},
   "outputs": [],
   "source": [
    "numerical_variables = df.select_dtypes(include=['number'])\n",
    "numerical_variables = numerical_variables.columns\n",
    "\n",
    "categorical_variables = df.select_dtypes(exclude=['number'])\n",
    "categorical_variables = categorical_variables.columns\n",
    "\n",
    "print(f'Numerical: \\n{numerical_variables}\\n')\n",
    "print(f'Categorical: \\n{categorical_variables}')"
   ]
  },
  {
   "cell_type": "code",
   "execution_count": null,
   "metadata": {},
   "outputs": [],
   "source": [
    "# df['ID_LOJA'] = df['ID_LOJA'].astype(str)"
   ]
  },
  {
   "cell_type": "code",
   "execution_count": null,
   "metadata": {},
   "outputs": [],
   "source": [
    "missing_values = df.isnull().sum()\n",
    "\n",
    "print(\"Columns with missing values:\")\n",
    "for column_name, num_missing in missing_values.items():\n",
    "    if num_missing > 0:\n",
    "        print(f\"{column_name}\\n\\tNumber of missing values: {num_missing}\")"
   ]
  },
  {
   "cell_type": "markdown",
   "metadata": {},
   "source": [
    "# Categorical"
   ]
  },
  {
   "cell_type": "code",
   "execution_count": null,
   "metadata": {},
   "outputs": [],
   "source": [
    "# Categorical to numerical\n",
    "\n",
    "if encoding:\n",
    "    label_encoder = LabelEncoder()\n",
    "\n",
    "    df[categorical_variables] = df[categorical_variables].apply(label_encoder.fit_transform)\n",
    "    df[categorical_variables]"
   ]
  },
  {
   "cell_type": "code",
   "execution_count": null,
   "metadata": {},
   "outputs": [],
   "source": [
    "# Impute missing values\n",
    "\n",
    "# Imputing under not MNAR assumption (Missing not at random)\n",
    "\n",
    "if imputing:\n",
    "    df = clean.random_sample_imputation(df)"
   ]
  },
  {
   "cell_type": "code",
   "execution_count": null,
   "metadata": {},
   "outputs": [],
   "source": [
    "# Standardizing numerical values\n",
    "\n",
    "if standarding:\n",
    "    scaler = StandardScaler()\n",
    "    df[numerical_variables] = scaler.fit_transform(df[numerical_variables])\n",
    "    df[numerical_variables]"
   ]
  },
  {
   "cell_type": "code",
   "execution_count": null,
   "metadata": {},
   "outputs": [],
   "source": [
    "# Exporting data\n",
    "\n",
    "cleaned = df # Add final df\n",
    "\n",
    "if run_save:\n",
    "    utils.save_df(cleaned, \"cleaned_standardized.csv\")"
   ]
  }
 ],
 "metadata": {
  "kernelspec": {
   "display_name": "base",
   "language": "python",
   "name": "python3"
  },
  "language_info": {
   "codemirror_mode": {
    "name": "ipython",
    "version": 3
   },
   "file_extension": ".py",
   "mimetype": "text/x-python",
   "name": "python",
   "nbconvert_exporter": "python",
   "pygments_lexer": "ipython3",
   "version": "3.11.5"
  },
  "orig_nbformat": 4
 },
 "nbformat": 4,
 "nbformat_minor": 2
}
