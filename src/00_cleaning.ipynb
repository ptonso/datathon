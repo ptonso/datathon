{
 "cells": [
  {
   "cell_type": "markdown",
   "metadata": {},
   "source": [
    "# Cleaning data\n",
    "**Handling missing values, outliers, duplicates, data integrity and standardizing data**\n",
    "\n",
    "**Import** data from \"data/raw.csv\"\n",
    "\n",
    "**Export** to \"data/cleaned.csv\""
   ]
  },
  {
   "cell_type": "code",
   "execution_count": 23,
   "metadata": {},
   "outputs": [],
   "source": [
    "# Setup\n",
    "\n",
    "import numpy as np\n",
    "import pandas as pd\n",
    "\n",
    "from pkg import utils\n",
    "from pkg import clean\n",
    "\n",
    "from sklearn.impute import SimpleImputer\n",
    "from sklearn.preprocessing import LabelEncoder"
   ]
  },
  {
   "cell_type": "code",
   "execution_count": 24,
   "metadata": {},
   "outputs": [],
   "source": [
    "run_save = True\n",
    "\n",
    "instancing = True\n",
    "encoding = True"
   ]
  },
  {
   "cell_type": "code",
   "execution_count": 25,
   "metadata": {},
   "outputs": [],
   "source": [
    "# Importing data\n",
    "\n",
    "parent = 'data'\n",
    "filename = 'raw.csv'\n",
    "\n",
    "path = utils.get_path(parent,filename)\n",
    "\n",
    "df = pd.read_csv(path, sep=\";\", index_col=0)"
   ]
  },
  {
   "cell_type": "code",
   "execution_count": 26,
   "metadata": {},
   "outputs": [
    {
     "name": "stdout",
     "output_type": "stream",
     "text": [
      "Numerical: \n",
      "Index(['RENDA_ESPERADA', 'AVAL_SATISFACAO', 'VL_LIMITE_CREDITO_INICIAL_BANCO',\n",
      "       'VL_FINANCEIRO_BCB', 'VL_OPERACAO_CARTAO_CREDITO',\n",
      "       'VL_LIMITE_CREDITO_BCB', 'PONTUACAO_DESEMPENHO',\n",
      "       'TEMPO_EXISTENCIA_ONLINE', 'AVALIACAO_RISCO', 'SCORE_INTERNO', 'RENDA'],\n",
      "      dtype='object')\n",
      "\n",
      "Categorical: \n",
      "Index(['TIPO_RELACIONAMENTO', 'ESTADO_LOJA', 'CATEGORIA_PRODUTO',\n",
      "       'ESTRATEGIA_VENDAS', 'REGIAO_LOJA'],\n",
      "      dtype='object')\n"
     ]
    }
   ],
   "source": [
    "numerical_variables = df.select_dtypes(include=['number'])\n",
    "numerical_variables = numerical_variables.columns\n",
    "\n",
    "categorical_variables = df.select_dtypes(exclude=['number'])\n",
    "categorical_variables = categorical_variables.columns\n",
    "\n",
    "print(f'Numerical: \\n{numerical_variables}\\n')\n",
    "print(f'Categorical: \\n{categorical_variables}')"
   ]
  },
  {
   "cell_type": "code",
   "execution_count": 27,
   "metadata": {},
   "outputs": [],
   "source": [
    "# df['ID_LOJA'] = df['ID_LOJA'].astype(str)"
   ]
  },
  {
   "cell_type": "code",
   "execution_count": 28,
   "metadata": {},
   "outputs": [
    {
     "name": "stdout",
     "output_type": "stream",
     "text": [
      "Columns with missing values:\n",
      "AVAL_SATISFACAO\n",
      "\tNumber of missing values: 10\n",
      "PONTUACAO_DESEMPENHO\n",
      "\tNumber of missing values: 29\n",
      "AVALIACAO_RISCO\n",
      "\tNumber of missing values: 314\n",
      "SCORE_INTERNO\n",
      "\tNumber of missing values: 23613\n"
     ]
    }
   ],
   "source": [
    "missing_values = df.isnull().sum()\n",
    "\n",
    "print(\"Columns with missing values:\")\n",
    "for column_name, num_missing in missing_values.items():\n",
    "    if num_missing > 0:\n",
    "        print(f\"{column_name}\\n\\tNumber of missing values: {num_missing}\")"
   ]
  },
  {
   "cell_type": "code",
   "execution_count": 29,
   "metadata": {},
   "outputs": [],
   "source": [
    "if instancing:\n",
    "    numeric_imputer = SimpleImputer(strategy='median')\n",
    "    df[numerical_variables] = numeric_imputer.fit_transform(df[numerical_variables])"
   ]
  },
  {
   "cell_type": "code",
   "execution_count": 30,
   "metadata": {},
   "outputs": [],
   "source": [
    "if encoding:\n",
    "    label_encoder = LabelEncoder()\n",
    "\n",
    "    df[categorical_variables] = df[categorical_variables].apply(label_encoder.fit_transform)\n",
    "    df[categorical_variables]"
   ]
  },
  {
   "cell_type": "code",
   "execution_count": 31,
   "metadata": {},
   "outputs": [
    {
     "name": "stdout",
     "output_type": "stream",
     "text": [
      "csv file saved on:  c:\\Users\\ptons\\Code\\repositories\\datathon\\data\\cleaned.csv\n"
     ]
    }
   ],
   "source": [
    "# Exporting data\n",
    "\n",
    "cleaned = df # Add final df\n",
    "\n",
    "if run_save:\n",
    "    utils.save_df(cleaned, \"cleaned.csv\")"
   ]
  },
  {
   "cell_type": "code",
   "execution_count": null,
   "metadata": {},
   "outputs": [],
   "source": []
  }
 ],
 "metadata": {
  "kernelspec": {
   "display_name": "base",
   "language": "python",
   "name": "python3"
  },
  "language_info": {
   "codemirror_mode": {
    "name": "ipython",
    "version": 3
   },
   "file_extension": ".py",
   "mimetype": "text/x-python",
   "name": "python",
   "nbconvert_exporter": "python",
   "pygments_lexer": "ipython3",
   "version": "3.11.5"
  },
  "orig_nbformat": 4
 },
 "nbformat": 4,
 "nbformat_minor": 2
}
