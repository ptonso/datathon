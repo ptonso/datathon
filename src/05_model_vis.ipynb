{
 "cells": [
  {
   "cell_type": "markdown",
   "metadata": {},
   "source": [
    "# Model visualization\n",
    "\n",
    "**Import** model from \"model/v01\""
   ]
  },
  {
   "cell_type": "code",
   "execution_count": null,
   "metadata": {},
   "outputs": [],
   "source": [
    "# Setup\n",
    "\n",
    "from pkg import utils\n",
    "from pkg import plot"
   ]
  },
  {
   "cell_type": "code",
   "execution_count": null,
   "metadata": {},
   "outputs": [],
   "source": [
    "# Importing model\n",
    "\n",
    "parent = 'models'\n",
    "filename = 'soa_model.pkl'\n",
    "\n",
    "path = utils.get_path(parent, filename)\n",
    "\n",
    "model = utils.read_model(path)"
   ]
  }
 ],
 "metadata": {
  "language_info": {
   "name": "python"
  },
  "orig_nbformat": 4
 },
 "nbformat": 4,
 "nbformat_minor": 2
}
