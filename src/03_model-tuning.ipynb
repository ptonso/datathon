{
 "cells": [
  {
   "cell_type": "markdown",
   "metadata": {},
   "source": [
    "# Model tunning\n",
    "**Finding best hyperparameters and properly setups for Model**\n",
    "\n",
    "I"
   ]
  },
  {
   "cell_type": "code",
   "execution_count": 2,
   "metadata": {},
   "outputs": [],
   "source": [
    "# Setup\n",
    "\n",
    "import numpy as np\n",
    "import pandas as pd\n",
    "\n",
    "from pkg import utils\n",
    "from pkg import tuning"
   ]
  },
  {
   "cell_type": "code",
   "execution_count": 3,
   "metadata": {},
   "outputs": [],
   "source": [
    "# Importing data\n",
    "\n",
    "parent = 'data'\n",
    "filename = 'featured.csv'\n",
    "\n",
    "path = utils.get_path(parent, filename)\n",
    "\n",
    "df = pd.read_csv(path, index_col=0)"
   ]
  },
  {
   "cell_type": "code",
   "execution_count": 4,
   "metadata": {},
   "outputs": [],
   "source": [
    "seed = 123"
   ]
  },
  {
   "cell_type": "code",
   "execution_count": 5,
   "metadata": {},
   "outputs": [],
   "source": [
    "X = df.iloc[:,:-1]\n",
    "y = df.iloc[:,-1]"
   ]
  },
  {
   "cell_type": "code",
   "execution_count": 6,
   "metadata": {},
   "outputs": [],
   "source": [
    "import lazypredict\n",
    "from lazypredict.Supervised import LazyRegressor\n",
    "import numpy as np\n",
    "from sklearn.model_selection import train_test_split"
   ]
  },
  {
   "cell_type": "code",
   "execution_count": 7,
   "metadata": {},
   "outputs": [],
   "source": [
    "X_train, X_test, y_train, y_test = train_test_split(X,y, test_size=0.2, random_state=seed)\n",
    "\n",
    "highmem_regressors = [\"GammaRegressor\", \"GaussianProcessRegressor\", \"KernelRidge\", \"QuantileRegressor\"]\n",
    "\n",
    "nonmem_reg = [reg for reg in lazypredict.Supervised.REGRESSORS if reg[0] not in highmem_regressors]\n",
    "highmem_reg = [reg for reg in lazypredict.Supervised.REGRESSORS if reg[0] in highmem_regressors]"
   ]
  },
  {
   "cell_type": "code",
   "execution_count": 8,
   "metadata": {},
   "outputs": [
    {
     "name": "stdout",
     "output_type": "stream",
     "text": [
      "'tuple' object has no attribute '__name__'\n",
      "Invalid Regressor(s)\n"
     ]
    },
    {
     "name": "stderr",
     "output_type": "stream",
     "text": [
      " 97%|█████████▋| 37/38 [06:00<00:15, 15.61s/it]"
     ]
    },
    {
     "name": "stdout",
     "output_type": "stream",
     "text": [
      "[LightGBM] [Info] Auto-choosing row-wise multi-threading, the overhead of testing was 0.001603 seconds.\n",
      "You can set `force_row_wise=true` to remove the overhead.\n",
      "And if memory is not enough, you can set `force_col_wise=true`.\n",
      "[LightGBM] [Info] Total Bins 1910\n",
      "[LightGBM] [Info] Number of data points in the train set: 37937, number of used features: 15\n",
      "[LightGBM] [Info] Start training from score 329073.814482\n"
     ]
    },
    {
     "name": "stderr",
     "output_type": "stream",
     "text": [
      "100%|██████████| 38/38 [06:01<00:00,  9.51s/it]"
     ]
    },
    {
     "name": "stdout",
     "output_type": "stream",
     "text": [
      "                               Adjusted R-Squared  R-Squared       RMSE  \\\n",
      "Model                                                                     \n",
      "LGBMRegressor                                0.62       0.62  163732.55   \n",
      "HistGradientBoostingRegressor                0.61       0.61  164428.72   \n",
      "XGBRegressor                                 0.61       0.61  165964.24   \n",
      "RandomForestRegressor                        0.58       0.58  172094.62   \n",
      "ExtraTreesRegressor                          0.56       0.56  175365.16   \n",
      "BaggingRegressor                             0.54       0.54  178970.55   \n",
      "GradientBoostingRegressor                    0.47       0.47  192146.67   \n",
      "DecisionTreeRegressor                        0.13       0.13  246513.84   \n",
      "PoissonRegressor                             0.12       0.13  247320.03   \n",
      "LassoCV                                      0.12       0.12  248268.27   \n",
      "LassoLarsCV                                  0.12       0.12  248274.23   \n",
      "LarsCV                                       0.12       0.12  248274.23   \n",
      "Lasso                                        0.12       0.12  248355.73   \n",
      "LassoLars                                    0.12       0.12  248355.73   \n",
      "TransformedTargetRegressor                   0.12       0.12  248355.89   \n",
      "LinearRegression                             0.12       0.12  248355.89   \n",
      "LassoLarsIC                                  0.12       0.12  248355.89   \n",
      "Lars                                         0.12       0.12  248355.89   \n",
      "Ridge                                        0.12       0.12  248356.00   \n",
      "RidgeCV                                      0.12       0.12  248356.95   \n",
      "BayesianRidge                                0.12       0.12  248363.68   \n",
      "OrthogonalMatchingPursuitCV                  0.12       0.12  248555.20   \n",
      "KNeighborsRegressor                          0.11       0.11  249744.76   \n",
      "ElasticNet                                   0.09       0.09  252018.09   \n",
      "TweedieRegressor                             0.07       0.07  254393.70   \n",
      "OrthogonalMatchingPursuit                    0.07       0.07  255142.64   \n",
      "ElasticNetCV                                 0.00       0.00  263995.75   \n",
      "DummyRegressor                              -0.00      -0.00  264507.57   \n",
      "HuberRegressor                              -0.01      -0.01  265452.99   \n",
      "PassiveAggressiveRegressor                  -0.03      -0.03  268719.48   \n",
      "NuSVR                                       -0.05      -0.05  270511.51   \n",
      "SVR                                         -0.07      -0.07  273805.69   \n",
      "MLPRegressor                                -0.09      -0.09  275557.51   \n",
      "ExtraTreeRegressor                          -0.24      -0.24  294030.19   \n",
      "LinearSVR                                   -1.26      -1.25  396912.09   \n",
      "AdaBoostRegressor                           -2.73      -2.72  510361.80   \n",
      "RANSACRegressor                            -83.21     -83.08 2425000.72   \n",
      "SGDRegressor                              -145.27    -145.04 3195944.15   \n",
      "\n",
      "                               Time Taken  \n",
      "Model                                      \n",
      "LGBMRegressor                        0.32  \n",
      "HistGradientBoostingRegressor        0.93  \n",
      "XGBRegressor                         1.22  \n",
      "RandomForestRegressor               82.82  \n",
      "ExtraTreesRegressor                 29.24  \n",
      "BaggingRegressor                     7.42  \n",
      "GradientBoostingRegressor            9.31  \n",
      "DecisionTreeRegressor                1.07  \n",
      "PoissonRegressor                     0.03  \n",
      "LassoCV                              0.34  \n",
      "LassoLarsCV                          0.14  \n",
      "LarsCV                               0.13  \n",
      "Lasso                                0.03  \n",
      "LassoLars                            0.05  \n",
      "TransformedTargetRegressor           0.05  \n",
      "LinearRegression                     0.05  \n",
      "LassoLarsIC                          0.07  \n",
      "Lars                                 0.04  \n",
      "Ridge                                0.03  \n",
      "RidgeCV                              0.05  \n",
      "BayesianRidge                        0.07  \n",
      "OrthogonalMatchingPursuitCV          0.09  \n",
      "KNeighborsRegressor                  5.84  \n",
      "ElasticNet                           0.04  \n",
      "TweedieRegressor                     0.03  \n",
      "OrthogonalMatchingPursuit            0.04  \n",
      "ElasticNetCV                         0.30  \n",
      "DummyRegressor                       0.02  \n",
      "HuberRegressor                       0.21  \n",
      "PassiveAggressiveRegressor           0.43  \n",
      "NuSVR                              100.49  \n",
      "SVR                                 93.98  \n",
      "MLPRegressor                        23.10  \n",
      "ExtraTreeRegressor                   0.32  \n",
      "LinearSVR                            0.06  \n",
      "AdaBoostRegressor                    2.47  \n",
      "RANSACRegressor                      0.25  \n",
      "SGDRegressor                         0.08  \n"
     ]
    },
    {
     "name": "stderr",
     "output_type": "stream",
     "text": [
      "\n"
     ]
    }
   ],
   "source": [
    "reg = LazyRegressor(regressors=nonmem_reg,verbose=0,ignore_warnings=False,custom_metric=None)\n",
    "models,predictions = reg.fit(X_train, X_test, y_train, y_test)\n",
    "\n",
    "print(models)"
   ]
  },
  {
   "cell_type": "code",
   "execution_count": null,
   "metadata": {},
   "outputs": [],
   "source": []
  }
 ],
 "metadata": {
  "kernelspec": {
   "display_name": "base",
   "language": "python",
   "name": "python3"
  },
  "language_info": {
   "codemirror_mode": {
    "name": "ipython",
    "version": 3
   },
   "file_extension": ".py",
   "mimetype": "text/x-python",
   "name": "python",
   "nbconvert_exporter": "python",
   "pygments_lexer": "ipython3",
   "version": "3.11.5"
  }
 },
 "nbformat": 4,
 "nbformat_minor": 2
}
